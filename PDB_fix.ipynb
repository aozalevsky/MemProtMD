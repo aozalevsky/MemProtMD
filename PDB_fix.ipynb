{
  "nbformat": 4,
  "nbformat_minor": 0,
  "metadata": {
    "colab": {
      "name": "PDB-fix",
      "provenance": [],
      "authorship_tag": "ABX9TyPf/xz2oi9Igq7pCJfzj7YC",
      "include_colab_link": true
    },
    "kernelspec": {
      "name": "python3",
      "display_name": "Python 3"
    },
    "language_info": {
      "name": "python"
    }
  },
  "cells": [
    {
      "cell_type": "markdown",
      "metadata": {
        "id": "view-in-github",
        "colab_type": "text"
      },
      "source": [
        "<a href=\"https://colab.research.google.com/github/pstansfeld/MemProtMD/blob/main/PDB_fix.ipynb\" target=\"_parent\"><img src=\"https://colab.research.google.com/assets/colab-badge.svg\" alt=\"Open In Colab\"/></a>"
      ]
    },
    {
      "cell_type": "markdown",
      "source": [
        "<img src=\"https://github.com/pstansfeld/MemProtMD/raw/main/mr-membrane-protein.png\" height=\"200\" align=\"right\" style=\"height:240px\">\n",
        "\n",
        "##Clean a protein structure for use with MemProtMD\n",
        "\n",
        "This Notebook uses [PDB2PQR](https://onlinelibrary.wiley.com/doi/10.1002/pro.3280) ([available here](https://github.com/Electrostatics/pdb2pqr)), followed by energy minimisation using [GROMACS](https://doi.org/10.1016/j.softx.2015.06.001).\n",
        "\n"
         ],
      "metadata": {
        "id": "n_psEm5Ord4L"
      }
    },
    {
      "cell_type": "code",
      "source": [
        "#@title Upload a PDB coordinate file\n",
        "import os\n",
        "import sys\n",
        "sys.path.append('/usr/local/lib/python3.7/site-packages/')\n",
        "\n",
        "from google.colab import files\n",
        "os.chdir('/content/')\n",
        "upload = files.upload()\n",
        "sys.path.append('/usr/local/lib/python3.7/site-packages/')\n"
      ],
      "metadata": {
        "cellView": "form",
        "id": "oGyyV6RAmdj6"
      },
      "execution_count": null,
      "outputs": []
    },
    {
      "cell_type": "code",
      "execution_count": null,
      "metadata": {
        "id": "R4V0uY9LiZO4",
        "cellView": "form"
      },
      "outputs": [],
      "source": [
        "#@title Install dependencies\n",
        "%%capture\n",
        "\n",
        "if not os.path.isdir(\"/content/content/gromacs/\"):\n",
        "  !apt-get update -y\n",
        "  !python3 -m pip install pdb2pqr\n",
        "  !python3 -m pip install GromacsWrapper\n",
        "  !python3 -m pip install MDAnalysis \n",
        "  !python3 -m pip install py3dmol\n",
        "  !wget https://raw.githubusercontent.com/pstansfeld/MemProtMD/master/gromacs.zip\n",
        "  !unzip -o gromacs.zip\n",
        "  !ln -s /content/content/gromacs/bin/gmx /usr/bin/gmx\n",
        "  !ln -s /content/content/gromacs/bin/gmx_d /usr/bin/gmx_d\n",
        "\n",
        "import gromacs\n",
        "import MDAnalysis\n",
        "import py3Dmol\n",
        "import glob\n",
        "import shutil"
      ]
    },
    {
      "cell_type": "code",
      "source": [
        "#@title View Input\n",
        "mview = py3Dmol.view(width=800,height=400)  \n",
        "filename = next(iter(upload))\n",
        "name = os.path.splitext(filename)[0]\n",
        "working_dir = '/content/' + name + '/'\n",
        "os.makedirs(working_dir, exist_ok=True)\n",
        "os.rename(filename, working_dir + filename)\n",
        "os.chdir(working_dir)\n",
        "mol1 = open(working_dir + filename, 'r').read()\n",
        "mview.addModel(mol1,'pdb')\n",
        "mview.setStyle({'cartoon':{'color':'spectrum'}})\n",
        "mview.setStyle({'resn':'DUM'},{'sphere':{}})\n",
        "mview.setBackgroundColor('0xffffff')\n",
        "mview.zoomTo()\n",
        "mview.show()"
      ],
      "metadata": {
        "cellView": "form",
        "id": "-DQK89FBvfJa"
      },
      "execution_count": null,
      "outputs": []
    },
    {
      "cell_type": "code",
      "source": [
        "#@title Energy Minimise\n",
        "%%capture\n",
        "if not os.path.exists('temp'):\n",
        "\tos.makedirs('temp')\n",
        "os.chdir('temp')\n",
        "\n",
        "print(\"Assessing \"+filename+\"\\n\")\n",
        "\n",
        "os.system('pdb2pqr30 --ff CHARMM  --keep-chain '+ working_dir + filename + ' pqr.pdb')\n",
        "\n",
        "gromacs.pdb2gmx(f='pqr.pdb',ignh=True,ff='charmm27',water='tip3p',o='conf.pdb')\n",
        "\n",
        "gromacs.editconf(f='conf.pdb',d=8,c=True,o='conf.pdb')\n",
        "\n",
        "with open('em.mdp','w') as em:\n",
        "            em.write('integrator = steep\\nnsteps = 5000\\nemtol = 100\\nemstep = 0.001')\n",
        "\n",
        "gromacs.grompp(f='em.mdp',maxwarn=5,o='em',c='conf.pdb')\n",
        "\n",
        "gromacs.mdrun_d(deffnm='em',c='clean.pdb')\n",
        "\n",
        "gromacs.trjconv(f='clean.pdb',o=working_dir + 'fixed-'+filename,s='em.tpr',input=('system'))\n",
        "\n",
        "os.chdir('..')\n",
        "\n",
        "shutil.rmtree('temp', ignore_errors=True)"
      ],
      "metadata": {
        "cellView": "form",
        "id": "IRYAZsFrtOnG"
      },
      "execution_count": null,
      "outputs": []
    },
    {
      "cell_type": "code",
      "source": [
        "#@title Download\n",
        "mview = py3Dmol.view(width=800,height=400)  \n",
        "mol1 = open(working_dir + 'fixed-'+filename, 'r').read()\n",
        "mview.addModel(mol1,'pdb')\n",
        "mview.setStyle({'cartoon':{'color':'spectrum'}})\n",
        "mview.setStyle({'atom':'P'},{'sphere':{}})\n",
        "mview.setBackgroundColor('0xffffff')\n",
        "mview.zoomTo()\n",
        "mview.show()\n",
        "files.download(working_dir + 'fixed-'+filename)"
      ],
      "metadata": {
        "cellView": "form",
        "id": "St2ZS61ovjbA"
      },
      "execution_count": null,
      "outputs": []
    }
  ]
}
