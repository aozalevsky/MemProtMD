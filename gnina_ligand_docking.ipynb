{
  "nbformat": 4,
  "nbformat_minor": 0,
  "metadata": {
    "colab": {
      "name": "gnina-ligand-docking.ipynb",
      "provenance": [],
      "collapsed_sections": [],
      "include_colab_link": true
    },
    "kernelspec": {
      "name": "python3",
      "display_name": "Python 3"
    },
    "accelerator": "GPU"
  },
  "cells": [
    {
      "cell_type": "markdown",
      "metadata": {
        "id": "view-in-github",
        "colab_type": "text"
      },
      "source": [
        "<a href=\"https://colab.research.google.com/github/pstansfeld/MemProtMD/blob/main/gnina_ligand_docking.ipynb\" target=\"_parent\"><img src=\"https://colab.research.google.com/assets/colab-badge.svg\" alt=\"Open In Colab\"/></a>"
      ]
    },
    {
      "cell_type": "markdown",
      "source": [
        "<img src=\"https://avatars.githubusercontent.com/u/15654234?s=200&v=4\" height=\"200\" align=\"right\" style=\"height:240px\">\n",
        "\n",
        "##Ligand Docking with Gnina\n",
        "\n",
        "This Google Colab uses [Gnina](https://doi.org/10.1186/s13321-021-00522-2) to dock ligands to proteins.\n",
        "\n",
        "Change the settings below and click **Runtime → Run all**. \n",
        "\n",
        "You will be prompted to upload a Protein PDB file of your Recetor and then a Ligand PDB to dock to the Receptor."
      ],
      "metadata": {
        "id": "s7E5y0SW0Vis"
      }
    },
    {
      "cell_type": "code",
      "metadata": {
        "id": "APMfSF1IIMTr",
        "cellView": "form"
      },
      "source": [
        "#@title Initialisation\n",
        "%%capture\n",
        "import os\n",
        "import sys\n",
        "if os.path.isfile(\"/content/gnina\") == False:\n",
        "  !python3 -m pip install py3dmol\n",
        "  !python3 -m pip install colorama\n",
        "  !apt-get update\n",
        "  !apt-get upgrade\n",
        "  !apt-get install gzip\n",
        "  !apt-get install openbabel\n",
        "  !wget https://github.com/gnina/gnina/releases/download/v1.0.1/gnina\n",
        "  !chmod +x gnina\n",
        "  import py3Dmol\n",
        "  from google.colab import files\n",
        "  from colorama import Fore\n",
        "  sys.path.append('/usr/local/lib/python3.7/site-packages/')"
      ],
      "execution_count": null,
      "outputs": []
    },
    {
      "cell_type": "code",
      "source": [
        "#@title Upload Receptor and Ligand files\n",
        "os.chdir('/content/')\n",
        "\n",
        "print(Fore.BLUE + \"\\nUpload Receptor Structure:\\n\")\n",
        "upload = files.upload()\n",
        "receptorname = next(iter(upload))\n",
        "\n",
        "name = os.path.splitext(receptorname)[0]\n",
        "working_dir = '/content/' + name + '/'\n",
        "os.makedirs(working_dir, exist_ok=True)\n",
        "os.rename(receptorname, working_dir + name + '.pdb')\n",
        "os.chdir(working_dir)\n",
        "mol1 = open(working_dir + receptorname, 'r').read()\n",
        "mview = py3Dmol.view(width=800,height=400) \n",
        "mview.addModel(mol1,'pdb')\n",
        "mview.setStyle({'cartoon':{'color':'spectrum'}})\n",
        "mview.setBackgroundColor('0xffffff')\n",
        "mview.zoomTo()\n",
        "mview.show()\n",
        "\n",
        "print(Fore.BLUE + \"\\nUpload Ligand Structure:\\n\")\n",
        "upload = files.upload()\n",
        "ligandname = next(iter(upload))\n",
        "\n",
        "mol1 = open(working_dir + ligandname, 'r').read()\n",
        "mview = py3Dmol.view(width=800,height=400) \n",
        "mview.addModel(mol1,'pdb')\n",
        "mview.setStyle({'model':1},{'stick':{'colorscheme':'dimgrayCarbon','radius':.5}})\n",
        "mview.setBackgroundColor('0xffffff')\n",
        "mview.zoomTo()\n",
        "mview.show()"
      ],
      "metadata": {
        "cellView": "form",
        "id": "sK91pNN8A-Np"
      },
      "execution_count": null,
      "outputs": []
    },
    {
      "cell_type": "code",
      "metadata": {
        "id": "wbfj-hvzkrBi",
        "cellView": "form"
      },
      "source": [
        "#@title Run Gnina & Show Dockings & Analyses\n",
        "!/content/gnina -r $receptorname -l $ligandname -o docked.sdf --seed 0 --autobox_ligand $ligandname\n",
        "v = py3Dmol.view()\n",
        "v.addModel(open(receptorname).read())\n",
        "v.setStyle({'cartoon':{}})\n",
        "v.addModel(open(ligandname).read())\n",
        "v.setStyle({'model':1},{'stick':{'colorscheme':'dimgrayCarbon','radius':.125}})\n",
        "v.addModelsAsFrames(open('docked.sdf').read())\n",
        "v.setStyle({'model':2},{'stick':{'colorscheme':'greenCarbon'}})\n",
        "v.animate({'interval':1500})\n",
        "v.zoomTo({'model':1})\n",
        "!obrms -firstonly $ligandname docked.sdf"
      ],
      "execution_count": null,
      "outputs": []
    },
    {
      "cell_type": "code",
      "source": [
        "#@title Download Zip\n",
        "os.chdir('/content/')\n",
        "os.system('zip -r ' + name + '.zip ' + name )\n",
        "files.download(name + '.zip')"
      ],
      "metadata": {
        "cellView": "form",
        "id": "LH0C6t6VX5ct"
      },
      "execution_count": null,
      "outputs": []
    }
  ]
}