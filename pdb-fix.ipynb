#@title Upload a PDB coordinate file
!python3 -m pip install pdb2pqr
import os
import sys
import gromacs
import shutil
import py3Dmol
from google.colab import files

os.chdir('/content/')
inpdb = files.upload()

mview = py3Dmol.view(width=800,height=400)  
filename = next(iter(upload))
name = os.path.splitext(filename)[0]
working_dir = '/content/' + name + '/'
os.makedirs(working_dir, exist_ok=True)
os.rename(filename, working_dir + filename)
os.chdir(working_dir)
mol1 = open(working_dir + filename, 'r').read()
mview.addModel(mol1,'pdb')
mview.setStyle({'cartoon':{'color':'spectrum'}})
mview.setStyle({'resn':'DUM'},{'sphere':{}})
mview.setBackgroundColor('0xffffff')
mview.zoomTo()
mview.show()

if not os.path.exists('temp'):
	os.makedirs('temp')
os.chdir('temp')

print("Assessing "+inpdb+"\n")

os.system('pdb2pqr --ff CHARMM  --chain ../'+inpdb+' pqr.pdb')

gromacs.pdb2gmx(f='pqr.pdb',ignh=True,ff='charmm27',water='tip3p',o='conf.pdb')

gromacs.editconf(f='conf.pdb',d=8,c=True,o='conf.pdb')

with open('em.mdp','w') as em:
            em.write('integrator = steep\nnsteps = 5000\nemtol = 100\nemstep = 0.001')

gromacs.grompp(f='em.mdp',maxwarn=5,o='em',c='conf.pdb')

gromacs.mdrun(deffnm='em',c='clean.pdb')

gromacs.trjconv(f='clean.pdb',o='../fixed-'+inpdb,s='em.tpr',input=('system'))

os.chdir('..')

shutil.rmtree('temp', ignore_errors=True)

mview = py3Dmol.view(width=800,height=400)  
mol1 = open(working_dir + fixed + filename, 'r').read()
mview.addModel(mol1,'pdb')
mview.setStyle({'cartoon':{'color':'spectrum'}})
mview.setStyle({'atom':'P'},{'sphere':{}})
mview.setBackgroundColor('0xffffff')
mview.zoomTo()
mview.show()
